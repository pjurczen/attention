{
 "cells": [
  {
   "cell_type": "code",
   "execution_count": 1,
   "id": "a0ae24ed-0b1a-435f-b744-e7c308fe3236",
   "metadata": {},
   "outputs": [
    {
     "name": "stdout",
     "output_type": "stream",
     "text": [
      "--2024-03-17 15:58:40--  https://raw.githubusercontent.com/karpathy/char-rnn/master/data/tinyshakespeare/input.txt\n",
      "Resolving raw.githubusercontent.com (raw.githubusercontent.com)... 185.199.111.133, 185.199.108.133, 185.199.110.133, ...\n",
      "Connecting to raw.githubusercontent.com (raw.githubusercontent.com)|185.199.111.133|:443... connected.\n",
      "HTTP request sent, awaiting response... 200 OK\n",
      "Length: 1115394 (1.1M) [text/plain]\n",
      "Saving to: ‘data/tinyshakespeare/input.txt.4’\n",
      "\n",
      "input.txt.4         100%[===================>]   1.06M  --.-KB/s    in 0.1s    \n",
      "\n",
      "2024-03-17 15:58:41 (9.39 MB/s) - ‘data/tinyshakespeare/input.txt.4’ saved [1115394/1115394]\n",
      "\n"
     ]
    }
   ],
   "source": [
    "!wget https://raw.githubusercontent.com/karpathy/char-rnn/master/data/tinyshakespeare/input.txt -P data/tinyshakespeare/"
   ]
  },
  {
   "cell_type": "code",
   "execution_count": 2,
   "id": "9cc33170-b48c-4021-b508-a89119845bd8",
   "metadata": {},
   "outputs": [],
   "source": [
    "with open('data/tinyshakespeare/input.txt', 'r', encoding='UTF-8') as f:\n",
    "    text = f.read()"
   ]
  },
  {
   "cell_type": "code",
   "execution_count": 3,
   "id": "d35cb820-7f3f-4e57-90de-a3b602f2d96f",
   "metadata": {},
   "outputs": [
    {
     "name": "stdout",
     "output_type": "stream",
     "text": [
      "1115394\n"
     ]
    }
   ],
   "source": [
    "print(len(text))"
   ]
  },
  {
   "cell_type": "code",
   "execution_count": 4,
   "id": "ac1a3a07-9ef6-4428-9677-a2209d1615e6",
   "metadata": {},
   "outputs": [
    {
     "name": "stdout",
     "output_type": "stream",
     "text": [
      "First Citizen:\n",
      "Before we proceed any further, hear me speak.\n",
      "\n",
      "All:\n",
      "Speak, speak.\n",
      "\n",
      "First Citizen:\n",
      "You are all resolved rather to die than to famish?\n",
      "\n",
      "All:\n",
      "Resolved. resolved.\n",
      "\n",
      "First Citizen:\n",
      "First, you know Caius Marcius is chief enemy to the people.\n",
      "\n",
      "All:\n",
      "We know't, we know't.\n",
      "\n",
      "First Citizen:\n",
      "Let us kill him, and we'll have corn at our own price.\n",
      "Is't a verdict?\n",
      "\n",
      "All:\n",
      "No more talking on't; let it be done: away, away!\n",
      "\n",
      "Second Citizen:\n",
      "One word, good citizens.\n",
      "\n",
      "First Citizen:\n",
      "We are accounted poor citizens, the patricians good.\n",
      "What authority surfeits on would relieve us: if they\n",
      "would yield us but the superfluity, while it were\n",
      "wholesome, we might guess they relieved us humanely;\n",
      "but they think we are too dear: the leanness that\n",
      "afflicts us, the object of our misery, is as an\n",
      "inventory to particularise their abundance; our\n",
      "sufferance is a gain to them Let us revenge this with\n",
      "our pikes, ere we become rakes: for the gods know I\n",
      "speak this in hunger for bread, not in thirst for revenge.\n",
      "\n",
      "\n"
     ]
    }
   ],
   "source": [
    "print(text[:1000])"
   ]
  },
  {
   "cell_type": "code",
   "execution_count": 5,
   "id": "c9ec1edb-a7e3-4772-9eda-4d4e5dce0e4c",
   "metadata": {},
   "outputs": [
    {
     "name": "stdout",
     "output_type": "stream",
     "text": [
      "\n",
      " !$&',-.3:;?ABCDEFGHIJKLMNOPQRSTUVWXYZabcdefghijklmnopqrstuvwxyz\n",
      "65\n"
     ]
    }
   ],
   "source": [
    "dictionary = sorted(list(set(text)))\n",
    "vocab_size = len(dictionary)\n",
    "print(''.join(dictionary))\n",
    "print(vocab_size)"
   ]
  },
  {
   "cell_type": "code",
   "execution_count": 6,
   "id": "eea63fa6-2f1a-4353-b54d-d4b3f83fb4f4",
   "metadata": {},
   "outputs": [
    {
     "name": "stdout",
     "output_type": "stream",
     "text": [
      "[23, 47, 41, 47, 53, 56, 1, 58, 53, 1, 57, 64, 41, 64, 59, 56]\n",
      "Kicior to szczur\n"
     ]
    }
   ],
   "source": [
    "stoi = {s:i for i,s in enumerate(dictionary)}\n",
    "itos = {i:s for i,s in enumerate(dictionary)}\n",
    "encode = lambda s: [stoi[x] for x in s]\n",
    "decode = lambda l: ''.join(itos[x] for x in l)\n",
    "print(encode('Kicior to szczur'))\n",
    "print(decode(encode('Kicior to szczur')))"
   ]
  },
  {
   "cell_type": "code",
   "execution_count": 7,
   "id": "dac3e8a9-5736-4d0d-b3f4-4e8dc406d26c",
   "metadata": {},
   "outputs": [
    {
     "name": "stdout",
     "output_type": "stream",
     "text": [
      "torch.Size([1115394]) torch.int64\n",
      "tensor([18, 47, 56, 57, 58,  1, 15, 47, 58, 47, 64, 43, 52, 10,  0, 14, 43, 44,\n",
      "        53, 56, 43,  1, 61, 43,  1, 54, 56, 53, 41, 43, 43, 42,  1, 39, 52, 63,\n",
      "         1, 44, 59, 56, 58, 46, 43, 56,  6,  1, 46, 43, 39, 56,  1, 51, 43,  1,\n",
      "        57, 54, 43, 39, 49,  8,  0,  0, 13, 50, 50, 10,  0, 31, 54, 43, 39, 49,\n",
      "         6,  1, 57, 54, 43, 39, 49,  8,  0,  0, 18, 47, 56, 57, 58,  1, 15, 47,\n",
      "        58, 47, 64, 43, 52, 10,  0, 37, 53, 59])\n"
     ]
    }
   ],
   "source": [
    "import torch\n",
    "encoded_text = encode(text)\n",
    "data = torch.tensor(encoded_text, dtype=torch.int64)\n",
    "print(data.shape, data.dtype)\n",
    "print(data[:100])"
   ]
  },
  {
   "cell_type": "code",
   "execution_count": 8,
   "id": "ab06b67e-36c3-4c3d-bac8-1b45658c5cfb",
   "metadata": {},
   "outputs": [],
   "source": [
    "n = int(0.9*len(data))\n",
    "train = data[:n]\n",
    "test = data[n:]"
   ]
  },
  {
   "cell_type": "code",
   "execution_count": 9,
   "id": "8a71a9fa-c439-4fa6-af81-2c9fea7c2e0c",
   "metadata": {},
   "outputs": [
    {
     "data": {
      "text/plain": [
       "tensor([18, 47, 56, 57, 58,  1, 15, 47, 58])"
      ]
     },
     "execution_count": 9,
     "metadata": {},
     "output_type": "execute_result"
    }
   ],
   "source": [
    "block_size = 8\n",
    "train[:block_size+1]"
   ]
  },
  {
   "cell_type": "code",
   "execution_count": 10,
   "id": "446c5b22-87e5-4c6f-a8af-d1b376dae160",
   "metadata": {},
   "outputs": [
    {
     "name": "stdout",
     "output_type": "stream",
     "text": [
      "When context is tensor([18]) then target is 47\n",
      "When context is tensor([18, 47]) then target is 56\n",
      "When context is tensor([18, 47, 56]) then target is 57\n",
      "When context is tensor([18, 47, 56, 57]) then target is 58\n",
      "When context is tensor([18, 47, 56, 57, 58]) then target is 1\n",
      "When context is tensor([18, 47, 56, 57, 58,  1]) then target is 15\n",
      "When context is tensor([18, 47, 56, 57, 58,  1, 15]) then target is 47\n",
      "When context is tensor([18, 47, 56, 57, 58,  1, 15, 47]) then target is 58\n"
     ]
    }
   ],
   "source": [
    "x = train[:block_size]\n",
    "y = train[1:block_size+1]\n",
    "for t in range(block_size):\n",
    "    context = x[:t+1]\n",
    "    target = y[t]\n",
    "    print(f\"When context is {context} then target is {target}\")"
   ]
  },
  {
   "cell_type": "code",
   "execution_count": 11,
   "id": "6d431863-5e02-4ad2-a384-558118aa37bf",
   "metadata": {},
   "outputs": [
    {
     "name": "stdout",
     "output_type": "stream",
     "text": [
      "inputs:\n",
      "torch.Size([4, 8])\n",
      "tensor([[24, 43, 58,  5, 57,  1, 46, 43],\n",
      "        [44, 53, 56,  1, 58, 46, 39, 58],\n",
      "        [52, 58,  1, 58, 46, 39, 58,  1],\n",
      "        [25, 17, 27, 10,  0, 21,  1, 54]])\n",
      "targets:\n",
      "torch.Size([4, 8])\n",
      "tensor([[43, 58,  5, 57,  1, 46, 43, 39],\n",
      "        [53, 56,  1, 58, 46, 39, 58,  1],\n",
      "        [58,  1, 58, 46, 39, 58,  1, 46],\n",
      "        [17, 27, 10,  0, 21,  1, 54, 39]])\n",
      "When context is [24] then target is 43\n",
      "When context is [24, 43] then target is 58\n",
      "When context is [24, 43, 58] then target is 5\n",
      "When context is [24, 43, 58, 5] then target is 57\n",
      "When context is [24, 43, 58, 5, 57] then target is 1\n",
      "When context is [24, 43, 58, 5, 57, 1] then target is 46\n",
      "When context is [24, 43, 58, 5, 57, 1, 46] then target is 43\n",
      "When context is [24, 43, 58, 5, 57, 1, 46, 43] then target is 39\n",
      "When context is [44] then target is 53\n",
      "When context is [44, 53] then target is 56\n",
      "When context is [44, 53, 56] then target is 1\n",
      "When context is [44, 53, 56, 1] then target is 58\n",
      "When context is [44, 53, 56, 1, 58] then target is 46\n",
      "When context is [44, 53, 56, 1, 58, 46] then target is 39\n",
      "When context is [44, 53, 56, 1, 58, 46, 39] then target is 58\n",
      "When context is [44, 53, 56, 1, 58, 46, 39, 58] then target is 1\n",
      "When context is [52] then target is 58\n",
      "When context is [52, 58] then target is 1\n",
      "When context is [52, 58, 1] then target is 58\n",
      "When context is [52, 58, 1, 58] then target is 46\n",
      "When context is [52, 58, 1, 58, 46] then target is 39\n",
      "When context is [52, 58, 1, 58, 46, 39] then target is 58\n",
      "When context is [52, 58, 1, 58, 46, 39, 58] then target is 1\n",
      "When context is [52, 58, 1, 58, 46, 39, 58, 1] then target is 46\n",
      "When context is [25] then target is 17\n",
      "When context is [25, 17] then target is 27\n",
      "When context is [25, 17, 27] then target is 10\n",
      "When context is [25, 17, 27, 10] then target is 0\n",
      "When context is [25, 17, 27, 10, 0] then target is 21\n",
      "When context is [25, 17, 27, 10, 0, 21] then target is 1\n",
      "When context is [25, 17, 27, 10, 0, 21, 1] then target is 54\n",
      "When context is [25, 17, 27, 10, 0, 21, 1, 54] then target is 39\n"
     ]
    }
   ],
   "source": [
    "torch.manual_seed(1337)\n",
    "batch_size = 4\n",
    "block_size = 8\n",
    "\n",
    "def get_batch(split):\n",
    "    data = train if split == 'train' else test\n",
    "    idx = torch.randint(len(data) - block_size, (batch_size,))\n",
    "    xb = torch.stack([data[i:i+block_size] for i in idx])\n",
    "    yb = torch.stack([data[i+1:i+block_size+1] for i in idx])\n",
    "    return xb, yb\n",
    "\n",
    "xb, yb = get_batch('train')\n",
    "print(\"inputs:\")\n",
    "print(xb.shape)\n",
    "print(xb)\n",
    "print(\"targets:\")\n",
    "print(yb.shape)\n",
    "print(yb)\n",
    "\n",
    "for b in range(batch_size):\n",
    "    for t in range(block_size):\n",
    "        context = xb[b, :t+1]\n",
    "        target = yb[b, t]\n",
    "        print(f\"When context is {context.tolist()} then target is {target}\")"
   ]
  },
  {
   "cell_type": "code",
   "execution_count": 12,
   "id": "640aec57-281c-46ca-871d-3fef1df7ccc8",
   "metadata": {},
   "outputs": [
    {
     "name": "stdout",
     "output_type": "stream",
     "text": [
      "torch.Size([4, 8, 65])\n",
      "tensor(4.8786, grad_fn=<NllLossBackward0>)\n",
      "\n",
      "Sr?qP-QWktXoL&jLDJgOLVz'RIoDqHdhsV&vLLxatjscMpwLERSPyao.qfzs$Ys$zF-w,;eEkzxjgCKFChs!iWW.ObzDnxA Ms$3\n"
     ]
    }
   ],
   "source": [
    "import torch\n",
    "import torch.nn as nn\n",
    "from torch.nn import functional as F\n",
    "torch.manual_seed(1337)\n",
    "\n",
    "class BigramLanguageModel(nn.Module):\n",
    "\n",
    "    def __init__(self, vocab_size):\n",
    "        super().__init__()\n",
    "        self.token_embedding_table = nn.Embedding(vocab_size, vocab_size)  # (C, C)\n",
    "\n",
    "    def forward(self, x, y=None):  # x: (B, T), y: (B, T)\n",
    "        logits = self.token_embedding_table(x)  # (B, T, C)\n",
    "        if y is None:\n",
    "            loss = None\n",
    "        else:\n",
    "            B, T, C = logits.shape\n",
    "            loss = F.cross_entropy(logits.view(B*T, C), y.view(B*T))\n",
    "        return logits, loss\n",
    "\n",
    "    def generate(self, x, max_tokens):\n",
    "        for _ in range(max_tokens):\n",
    "            logits, loss = self(x)\n",
    "            logits = logits[:, -1, :]  # (B, 1, C)\n",
    "            probs = F.softmax(logits, dim=-1)\n",
    "            yhat = torch.multinomial(probs, num_samples=1)\n",
    "            x  = torch.cat((x, yhat), dim=1)\n",
    "        return x\n",
    "\n",
    "\n",
    "model = BigramLanguageModel(vocab_size)\n",
    "logits, loss = model(xb, yb)\n",
    "print(logits.shape)\n",
    "print(loss)\n",
    "\n",
    "print(decode(model.generate(torch.zeros((1,1), dtype=torch.int64), max_tokens=100)[0].tolist()))"
   ]
  },
  {
   "cell_type": "code",
   "execution_count": 15,
   "id": "ff23fa6b-d08b-4f6b-8c34-c5b37995f88b",
   "metadata": {},
   "outputs": [],
   "source": [
    "optimizer = torch.optim.AdamW(model.parameters(), lr=1e-3)"
   ]
  },
  {
   "cell_type": "code",
   "execution_count": 20,
   "id": "c61c9165-10a2-4ceb-9e8a-b3588151bcae",
   "metadata": {},
   "outputs": [
    {
     "name": "stdout",
     "output_type": "stream",
     "text": [
      "2.4935240745544434\n"
     ]
    }
   ],
   "source": [
    "batch_size = 32\n",
    "for _ in range(1000):\n",
    "    xb, yb = get_batch('train')\n",
    "    logits, loss = model(xb, yb)\n",
    "    optimizer.zero_grad()\n",
    "    loss.backward()\n",
    "    optimizer.step()\n",
    "\n",
    "print(loss.item())"
   ]
  },
  {
   "cell_type": "code",
   "execution_count": 21,
   "id": "4e1c0adb-4fd3-4fa5-a916-f0180ec6ded2",
   "metadata": {},
   "outputs": [
    {
     "name": "stdout",
     "output_type": "stream",
     "text": [
      "\n",
      "TONThe.\n",
      "adalor thofe grs ind;\n",
      "OHAnkil?\n",
      "\n",
      "\n",
      "\n",
      "WAnerro d s, t aceathad ave! or,\n",
      "\n",
      "AUKENGren ffo\n",
      "JUKI y ees\n"
     ]
    }
   ],
   "source": [
    "print(decode(model.generate(torch.zeros((1,1), dtype=torch.int64), max_tokens=100)[0].tolist()))"
   ]
  },
  {
   "cell_type": "code",
   "execution_count": 44,
   "id": "fdb89184-035a-4f77-afe7-ca4565ac1d3b",
   "metadata": {},
   "outputs": [
    {
     "name": "stdout",
     "output_type": "stream",
     "text": [
      "tensor([[1.0000, 0.0000, 0.0000],\n",
      "        [0.5000, 0.5000, 0.0000],\n",
      "        [0.3333, 0.3333, 0.3333]])\n",
      "tensor([[2., 7.],\n",
      "        [6., 4.],\n",
      "        [6., 5.]])\n",
      "tensor([[2.0000, 7.0000],\n",
      "        [4.0000, 5.5000],\n",
      "        [4.6667, 5.3333]])\n"
     ]
    }
   ],
   "source": [
    "torch.manual_seed(42)\n",
    "a = torch.tril(torch.ones(3,3))\n",
    "a = a / torch.sum(a, axis=1, keepdim=True)\n",
    "print(a)\n",
    "b = torch.randint(0, 10, (3,2)).float()\n",
    "print(b)\n",
    "c = a @ b\n",
    "print(c)"
   ]
  },
  {
   "cell_type": "code",
   "execution_count": 47,
   "id": "2da9e6a8-f678-45b3-a51f-e78e3ce82f9e",
   "metadata": {},
   "outputs": [
    {
     "data": {
      "text/plain": [
       "torch.Size([4, 8, 2])"
      ]
     },
     "execution_count": 47,
     "metadata": {},
     "output_type": "execute_result"
    }
   ],
   "source": [
    "torch.manual_seed(1337)\n",
    "B,T,C = 4,8,2\n",
    "x = torch.randn(B,T,C)\n",
    "x.shape"
   ]
  },
  {
   "cell_type": "code",
   "execution_count": 62,
   "id": "511efa79-be3d-412b-b584-12fe09938173",
   "metadata": {},
   "outputs": [
    {
     "data": {
      "text/plain": [
       "tensor([[[ 0.1808, -0.0700],\n",
       "         [-0.0894, -0.4926],\n",
       "         [ 0.1490, -0.3199],\n",
       "         [ 0.3504, -0.2238],\n",
       "         [ 0.3525,  0.0545],\n",
       "         [ 0.0688, -0.0396],\n",
       "         [ 0.0927, -0.0682],\n",
       "         [-0.0341,  0.1332]],\n",
       "\n",
       "        [[ 1.3488, -0.1396],\n",
       "         [ 0.8173,  0.4127],\n",
       "         [-0.1342,  0.4395],\n",
       "         [ 0.2711,  0.4774],\n",
       "         [ 0.2421,  0.0694],\n",
       "         [ 0.0084,  0.0020],\n",
       "         [ 0.0712, -0.1128],\n",
       "         [ 0.2527,  0.2149]],\n",
       "\n",
       "        [[-0.6631, -0.2513],\n",
       "         [ 0.1735, -0.0649],\n",
       "         [ 0.1685,  0.3348],\n",
       "         [-0.1621,  0.1765],\n",
       "         [-0.2312, -0.0436],\n",
       "         [-0.1015, -0.2855],\n",
       "         [-0.2593, -0.1630],\n",
       "         [-0.3015, -0.2293]],\n",
       "\n",
       "        [[ 1.6455, -0.8030],\n",
       "         [ 1.4985, -0.5395],\n",
       "         [ 0.4954,  0.3420],\n",
       "         [ 1.0623, -0.1802],\n",
       "         [ 1.1401, -0.4462],\n",
       "         [ 1.0870, -0.4071],\n",
       "         [ 1.0430, -0.1299],\n",
       "         [ 1.1138, -0.1641]]])"
      ]
     },
     "execution_count": 62,
     "metadata": {},
     "output_type": "execute_result"
    }
   ],
   "source": [
    "xbow = torch.zeros(B,T,C)\n",
    "for b in range(B):\n",
    "    for t in range(T):\n",
    "        xprev = x[b,:t+1]  # xprev: (T, C)\n",
    "        xbow[b,t] = torch.mean(xprev, dim=0)\n",
    "xbow # xbow: (B, T, C)"
   ]
  },
  {
   "cell_type": "code",
   "execution_count": 78,
   "id": "91e4f208-6a2e-439e-a7d4-6fee092f8142",
   "metadata": {},
   "outputs": [
    {
     "data": {
      "text/plain": [
       "True"
      ]
     },
     "execution_count": 78,
     "metadata": {},
     "output_type": "execute_result"
    }
   ],
   "source": [
    "import math\n",
    "\n",
    "wei = torch.tril(torch.ones(T,T)) # T, T\n",
    "wei = wei / torch.sum(wei, axis=1, keepdim=True) # T, T\n",
    "xbow2 = wei @ x  # T, T @ B, T, C\n",
    "torch.allclose(xbow, xbow2, rtol=math.inf)"
   ]
  },
  {
   "cell_type": "code",
   "execution_count": 89,
   "id": "9dd1e0a4-f825-4019-b910-9b08c5dac498",
   "metadata": {},
   "outputs": [
    {
     "data": {
      "text/plain": [
       "True"
      ]
     },
     "execution_count": 89,
     "metadata": {},
     "output_type": "execute_result"
    }
   ],
   "source": [
    "tril = torch.tril(torch.ones(T,T))\n",
    "wei = torch.zeros(T,T)\n",
    "wei = wei.masked_fill(tril == 0, -math.inf)\n",
    "wei = F.softmax(wei, dim=-1)  # softmax over channels (last dimension)\n",
    "xbow3 = wei @ x\n",
    "torch.allclose(xbow, xbow3, rtol=math.inf)"
   ]
  },
  {
   "cell_type": "code",
   "execution_count": 106,
   "id": "fb351320-968b-4f3d-9335-da660c0dce1f",
   "metadata": {},
   "outputs": [
    {
     "name": "stdout",
     "output_type": "stream",
     "text": [
      "torch.Size([4, 8, 16])\n",
      "tensor([[-0.1571,  0.8801,  0.1615, -0.7824, -0.1429,  0.7468,  0.1007, -0.5239,\n",
      "         -0.8873,  0.1907,  0.1762, -0.5943, -0.4812, -0.4860,  0.2862,  0.5710],\n",
      "        [ 0.3156,  0.0704, -0.0706, -0.1604, -0.1344,  0.1558, -0.2001, -0.2886,\n",
      "         -0.4120,  0.4947,  0.4806, -0.3233, -0.0231, -0.0158,  0.0837,  0.9683],\n",
      "        [ 0.4029, -0.0241, -0.2422,  0.0145,  0.0144, -0.0129, -0.0916, -0.1296,\n",
      "         -0.3266,  0.0527,  0.3795, -0.0745, -0.1562, -0.0397, -0.0320,  1.0982],\n",
      "        [ 0.4779, -0.2057, -0.2656,  0.1018,  0.0853, -0.1675, -0.1532, -0.1084,\n",
      "         -0.1658,  0.2856,  0.3110, -0.0448,  0.0502,  0.1370,  0.1077,  0.9660],\n",
      "        [ 0.3579,  0.2417,  0.0711,  0.1706,  0.2915,  0.1982,  0.2582,  0.1424,\n",
      "         -0.3187, -0.4826, -0.1465, -0.0625, -0.4228,  0.1282,  0.0811,  0.6980],\n",
      "        [ 0.2370,  0.1631, -0.0279,  0.1223,  0.1766,  0.1643,  0.0528, -0.0590,\n",
      "         -0.2692, -0.0797,  0.0590, -0.0432, -0.2163,  0.0780,  0.1760,  0.6983],\n",
      "        [ 0.0250,  0.1282, -0.1238,  0.2113,  0.1998,  0.0318, -0.0140, -0.0841,\n",
      "         -0.1524, -0.0193,  0.0699,  0.1145, -0.0563,  0.0242,  0.2094,  0.5999],\n",
      "        [ 0.0439,  0.1407, -0.2505,  0.2659,  0.1952,  0.0320, -0.0359,  0.1532,\n",
      "         -0.0887, -0.0490,  0.0779,  0.2024,  0.0384, -0.1089,  0.0430,  0.4712]],\n",
      "       grad_fn=<SelectBackward0>)\n"
     ]
    }
   ],
   "source": [
    "torch.manual_seed(1337)\n",
    "B,T,C = 4,8,32\n",
    "x = torch.randn(B,T,C)\n",
    "\n",
    "head_size = 16\n",
    "key = nn.Linear(C, head_size, bias=False)\n",
    "query = nn.Linear(C, head_size, bias=False)\n",
    "\n",
    "k = key(x)  # B, T, 16\n",
    "q = query(x)  # B, T, 16\n",
    "\n",
    "wei = k @ q.transpose(-2, -1) * head_size**-0.5  # B, T, T\n",
    "\n",
    "tril = torch.tril(torch.ones(T,T))\n",
    "wei = wei.masked_fill(tril == 0, -math.inf)\n",
    "wei = F.softmax(wei, dim=-1)  # softmax over channels (last dimension)\n",
    "\n",
    "value = nn.Linear(C, head_size, bias=False)\n",
    "v = value(x)  # B, T, 16\n",
    "\n",
    "out = wei @ v  # B, T, 16\n",
    "print(out.shape)\n",
    "print(out[0])"
   ]
  },
  {
   "cell_type": "code",
   "execution_count": 110,
   "id": "9c952104-4ddb-4034-8b4b-897ad5775555",
   "metadata": {},
   "outputs": [],
   "source": []
  },
  {
   "cell_type": "code",
   "execution_count": 51,
   "id": "14fa5593-4d67-404e-b84f-6f1313738664",
   "metadata": {},
   "outputs": [
    {
     "name": "stdout",
     "output_type": "stream",
     "text": [
      "6.361921 M parameters\n"
     ]
    }
   ],
   "source": [
    "import torch\n",
    "import torch.nn as nn\n",
    "from torch.nn import functional as F\n",
    "import math\n",
    "torch.manual_seed(1337)\n",
    "\n",
    "vocab_size = 65\n",
    "batch_size = 16\n",
    "block_size = 32\n",
    "n_embed = 256\n",
    "num_iters = 5000\n",
    "eval_iters = 200\n",
    "head_size = 32\n",
    "n_head = 4\n",
    "n_blocks = 8\n",
    "device = 'cuda' if torch.cuda.is_available() else 'cpu'\n",
    "learning_rate = 3e-4\n",
    "dropout = 0.1\n",
    "\n",
    "with open('data/tinyshakespeare/input.txt', 'r', encoding='UTF-8') as f:\n",
    "    text = f.read()\n",
    "dictionary = sorted(list(set(text)))\n",
    "vocab_size = len(dictionary)\n",
    "stoi = {s:i for i,s in enumerate(dictionary)}\n",
    "itos = {i:s for i,s in enumerate(dictionary)}\n",
    "encode = lambda s: [stoi[x] for x in s]\n",
    "decode = lambda l: ''.join(itos[x] for x in l)\n",
    "encoded_text = encode(text)\n",
    "data = torch.tensor(encoded_text, dtype=torch.int64)\n",
    "\n",
    "n = int(0.9*len(data))\n",
    "train = data[:n]\n",
    "test = data[n:]\n",
    "\n",
    "\n",
    "def get_batch(split):\n",
    "    data = train if split == 'train' else test\n",
    "    idx = torch.randint(len(data) - block_size, (batch_size,))\n",
    "    x = torch.stack([data[i:i+block_size] for i in idx])\n",
    "    y = torch.stack([data[i+1:i+block_size+1] for i in idx])\n",
    "    x, y = x.to(device), y.to(device)\n",
    "    return x, y\n",
    "\n",
    "\n",
    "@torch.no_grad\n",
    "def estimate_loss():\n",
    "    out = {}\n",
    "    model.eval()\n",
    "    for split in ['train', 'eval']:\n",
    "        losses = torch.zeros(eval_iters)\n",
    "        for k in range(eval_iters):\n",
    "            x, y = get_batch(split)\n",
    "            logits, loss = model(x, y)\n",
    "            losses[k] = loss.item()\n",
    "        out[split] = losses.mean()\n",
    "    model.train()\n",
    "    return out\n",
    "\n",
    "\n",
    "class SingleAttentionHead(nn.Module):\n",
    "\n",
    "    def __init__(self, head_size):\n",
    "        super().__init__()\n",
    "        self.key = nn.Linear(n_embed, head_size, bias=False)\n",
    "        self.query = nn.Linear(n_embed, head_size, bias=False)\n",
    "        self.value = nn.Linear(n_embed, head_size, bias=False)\n",
    "        self.register_buffer('tril', torch.tril(torch.ones(block_size, block_size))) # T, T\n",
    "\n",
    "    def forward(self, x):\n",
    "        B,T,C = x.shape\n",
    "        k = self.key(x)  # B, T, head_size\n",
    "        q = self.query(x)  # B, T, head_size\n",
    "        \n",
    "        wei = k @ q.transpose(-2, -1) * head_size**-0.5  # B, T, T\n",
    "        \n",
    "        wei = wei.masked_fill(self.tril[:T, :T] == 0, -math.inf)\n",
    "        wei = F.softmax(wei, dim=-1)  # softmax over channels (last dimension)\n",
    "        v = self.value(x)  # B, T, head_size\n",
    "        \n",
    "        out = wei @ v  # B, T, head_size\n",
    "        return out\n",
    "\n",
    "\n",
    "class MultiHeadAttention(nn.Module):\n",
    "\n",
    "    def __init__(self, n_head, head_size):\n",
    "        super().__init__()\n",
    "        self.heads = nn.ModuleList([SingleAttentionHead(head_size) for _ in range(n_head)])\n",
    "        self.proj = nn.Linear(n_embed, n_embed)\n",
    "        self.dropout = nn.Dropout(dropout)\n",
    "\n",
    "    def forward(self, x):\n",
    "        out = torch.cat([h(x) for h in self.heads], dim=-1)\n",
    "        out = self.proj(out)\n",
    "        out = self.dropout(out)\n",
    "        return out\n",
    "\n",
    "\n",
    "class FeedForward(nn.Module):\n",
    "\n",
    "    def __init__(self, n_embed):\n",
    "        super().__init__()\n",
    "        self.net = nn.Sequential(\n",
    "            nn.Linear(n_embed, 4*n_embed),\n",
    "            nn.ReLU(),\n",
    "            nn.Linear(4*n_embed, n_embed),\n",
    "            nn.Dropout(dropout)\n",
    "        )\n",
    "\n",
    "    def forward(self, x):\n",
    "        return self.net(x)\n",
    "\n",
    "\n",
    "class TransformerBlock(nn.Module):\n",
    "\n",
    "    def __init__(self, n_embed, n_head):\n",
    "        super().__init__()\n",
    "        head_size = n_embed // n_head\n",
    "        self.self_attention = MultiHeadAttention(n_head, head_size)\n",
    "        self.layer_norm_sa = nn.LayerNorm(n_embed)\n",
    "        self.feed_forward = FeedForward(n_embed)\n",
    "        self.layer_norm_ff = nn.LayerNorm(n_embed)\n",
    "\n",
    "    def forward(self, x):\n",
    "        x = self.layer_norm_sa(x + self.self_attention(x))\n",
    "        x = self.layer_norm_ff(x + self.feed_forward(x))\n",
    "        return x\n",
    "\n",
    "\n",
    "class BigramLanguageModel(nn.Module):\n",
    "\n",
    "    def __init__(self):\n",
    "        super().__init__()\n",
    "        self.token_embedding_table = nn.Embedding(vocab_size, n_embed)  # (C, n_embed)\n",
    "        self.position_embedding_table = nn.Embedding(vocab_size, n_embed)  # (C, n_embed)\n",
    "        self.transformers = nn.Sequential(*[TransformerBlock(n_embed, n_head) for _ in range(n_blocks)])\n",
    "        self.dropout = nn.Dropout(dropout)\n",
    "        self.lm_head = nn.Linear(n_embed, vocab_size)\n",
    "\n",
    "    def forward(self, x, y=None):  # x: (B, T), y: (B, T)\n",
    "        B, T = x.shape\n",
    "        tok_emb = self.token_embedding_table(x)  # (B, T, n_embed)\n",
    "        pos_emb = self.position_embedding_table(x)  # (B, T, n_embed)\n",
    "        x = tok_emb + pos_emb\n",
    "        x = self.dropout(x)\n",
    "        x = self.transformers(x)\n",
    "        logits = self.lm_head(x)\n",
    "\n",
    "        if y is None:\n",
    "            loss = None\n",
    "        else:\n",
    "            B, T, C = logits.shape\n",
    "            loss = F.cross_entropy(logits.view(B*T, C), y.view(B*T))\n",
    "        return logits, loss\n",
    "\n",
    "    def generate(self, x, max_tokens):\n",
    "        for _ in range(max_tokens):\n",
    "            x_cond = x[:, -block_size:]\n",
    "            logits, loss = self(x_cond)\n",
    "            logits = logits[:, -1, :]  # (B, 1, C)\n",
    "            probs = F.softmax(logits, dim=-1)\n",
    "            yhat = torch.multinomial(probs, num_samples=1)\n",
    "            x = torch.cat((x, yhat), dim=1)\n",
    "        return x\n",
    "\n",
    "\n",
    "model = BigramLanguageModel().to(device)\n",
    "print(sum(p.numel() for p in model.parameters())/1e6, 'M parameters')\n",
    "optimizer = torch.optim.AdamW(model.parameters(), lr=learning_rate)"
   ]
  },
  {
   "cell_type": "code",
   "execution_count": null,
   "id": "5f8ef6a2-d017-47f8-af78-4fd1c2435b60",
   "metadata": {},
   "outputs": [
    {
     "name": "stdout",
     "output_type": "stream",
     "text": [
      "step 0: train loss 4.3201, eval loss 4.3174\n",
      "step 200: train loss 2.3895, eval loss 2.4144\n"
     ]
    }
   ],
   "source": [
    "for i in range(num_iters):\n",
    "    if i % eval_iters == 0 or i == num_iters - 1:\n",
    "        losses = estimate_loss()\n",
    "        print(f\"step {i}: train loss {losses['train']:.4f}, eval loss {losses['eval']:.4f}\")\n",
    "    xb, yb = get_batch('train')\n",
    "    logits, loss = model(xb, yb)\n",
    "    optimizer.zero_grad()\n",
    "    loss.backward()\n",
    "    optimizer.step()\n",
    "\n",
    "print(loss.item())"
   ]
  },
  {
   "cell_type": "code",
   "execution_count": 46,
   "id": "0821e49d-b2d4-450b-b122-83d2ca6927e5",
   "metadata": {},
   "outputs": [
    {
     "name": "stdout",
     "output_type": "stream",
     "text": [
      "\n",
      "EENNIhyOsi f seeleIp s Do, Tes n heerir ha h,iinod sh :aeppee w whroaers h taTf ireseA\n",
      "egneseeod tUoleIiDaamw shL lt,fiurn toruo nno\n",
      "ttoHo\n",
      " Uao sspeeroni,\n",
      "l woueidoghh rAnn,ieedr\n",
      "nat Uodh iuf:deniglaaf;t,r yes pera ivworaeineAVta thete!T;sose s det bosoei Lh enh; 'rt welhuWlers\n",
      " wrt\n",
      "I oen ite m Cuoaunaalyyso ciny fat din ganhuead taeaaol sale,mnhR,amk WYish tr onsdafT eeeal eeer hi pea co lrsn!nl\n",
      "l\n",
      "\n",
      "nasuWS whuntdm wae, ghree bweslueose os\n",
      "n:hgemysrv maiHato' bgnoeTu\n",
      " irut\n",
      "ongit in duhtin h Iremgh? n Iemhew buw\n",
      " pairsaHt' OgeSgisTaoeSgiad t IAoerk Wau- teoT tsi  use rd EI, w,heoes n too,h\n",
      "N hoAsenthdor crn Oenenc EuC elomn'lh,e o homs.rpa\n",
      "ao,e SeM seon btnnaus, n?at, eyo maeide tiepe sv gris, trlok\n",
      "fllFmEs!rcclsyiiI akg oits neas oTc mnhiueni, nshi ti f totifieIN\n",
      "\n",
      "r:' a oro,eotPoms- so\n",
      "?eAk wcho o?yoel nrrle'\n",
      "GNfarroereu:s ion?nen tdou\n",
      ",aoey?deTah intteal gerronerd\n",
      "SeOhh- ald\n",
      " tanb po t atauholni:ee marul I hhhorrrfhd botA\n",
      "W t ohoighT\n",
      "ldm ldlR.e mE.maA wii \n",
      "rp:cRian g tea srna\n",
      "fhd frene\n"
     ]
    }
   ],
   "source": [
    "print(decode(model.generate(torch.zeros((1,1), dtype=torch.int64, device=device), max_tokens=1000)[0].tolist()))"
   ]
  },
  {
   "cell_type": "code",
   "execution_count": null,
   "id": "6ba473d6-6754-442f-94d0-b70c2fa8b43a",
   "metadata": {},
   "outputs": [],
   "source": []
  }
 ],
 "metadata": {
  "kernelspec": {
   "display_name": "Python 3 (ipykernel)",
   "language": "python",
   "name": "python3"
  },
  "language_info": {
   "codemirror_mode": {
    "name": "ipython",
    "version": 3
   },
   "file_extension": ".py",
   "mimetype": "text/x-python",
   "name": "python",
   "nbconvert_exporter": "python",
   "pygments_lexer": "ipython3",
   "version": "3.10.12"
  }
 },
 "nbformat": 4,
 "nbformat_minor": 5
}
