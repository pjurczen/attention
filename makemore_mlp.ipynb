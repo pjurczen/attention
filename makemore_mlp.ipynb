{
 "cells": [
  {
   "cell_type": "code",
   "execution_count": 25,
   "id": "3fdbf2ed-b34f-4e07-a1be-80188ce4fcb6",
   "metadata": {},
   "outputs": [],
   "source": [
    "import torch"
   ]
  },
  {
   "cell_type": "code",
   "execution_count": 12,
   "id": "0269af16-cfa8-4966-af9f-4fffd667db74",
   "metadata": {},
   "outputs": [],
   "source": [
    "names = open('data/names/names.txt', 'r', encoding='UTF-8').read().splitlines()"
   ]
  },
  {
   "cell_type": "code",
   "execution_count": 11,
   "id": "55ccf4e1-a03d-4c50-a8f2-18e89e7a79be",
   "metadata": {},
   "outputs": [
    {
     "name": "stdout",
     "output_type": "stream",
     "text": [
      "['emma', 'olivia', 'ava', 'isabella', 'sophia']\n"
     ]
    },
    {
     "data": {
      "text/plain": [
       "32033"
      ]
     },
     "execution_count": 11,
     "metadata": {},
     "output_type": "execute_result"
    }
   ],
   "source": [
    "print(names[:5])\n",
    "len(names)"
   ]
  },
  {
   "cell_type": "code",
   "execution_count": 23,
   "id": "beeaf01b-1bfe-4b41-9149-1c47d5dc67e2",
   "metadata": {},
   "outputs": [
    {
     "name": "stdout",
     "output_type": "stream",
     "text": [
      "{'a': 1, 'b': 2, 'c': 3, 'd': 4, 'e': 5, 'f': 6, 'g': 7, 'h': 8, 'i': 9, 'j': 10, 'k': 11, 'l': 12, 'm': 13, 'n': 14, 'o': 15, 'p': 16, 'q': 17, 'r': 18, 's': 19, 't': 20, 'u': 21, 'v': 22, 'w': 23, 'x': 24, 'y': 25, 'z': 26, '.': 0}\n",
      "{1: 'a', 2: 'b', 3: 'c', 4: 'd', 5: 'e', 6: 'f', 7: 'g', 8: 'h', 9: 'i', 10: 'j', 11: 'k', 12: 'l', 13: 'm', 14: 'n', 15: 'o', 16: 'p', 17: 'q', 18: 'r', 19: 's', 20: 't', 21: 'u', 22: 'v', 23: 'w', 24: 'x', 25: 'y', 26: 'z', 0: '.'}\n"
     ]
    }
   ],
   "source": [
    "chars = list(sorted(set(''.join(names))))\n",
    "stoi = {s:i+1 for i,s in enumerate(chars)}\n",
    "stoi['.'] = 0\n",
    "itos = {i:s for s,i in stoi.items()}\n",
    "print(stoi)\n",
    "print(itos)"
   ]
  },
  {
   "cell_type": "code",
   "execution_count": 26,
   "id": "6b18ed5a-2036-4eea-8d94-b46c44302e3d",
   "metadata": {},
   "outputs": [
    {
     "name": "stdout",
     "output_type": "stream",
     "text": [
      "emma\n",
      "...-->e\n",
      "..e-->m\n",
      "..m-->m\n",
      "..m-->a\n",
      "..a-->.\n",
      "olivia\n",
      "...-->o\n",
      "..o-->l\n",
      "..l-->i\n",
      "..i-->v\n",
      "..v-->i\n",
      "..i-->a\n",
      "..a-->.\n",
      "ava\n",
      "...-->a\n",
      "..a-->v\n",
      "..v-->a\n",
      "..a-->.\n",
      "isabella\n",
      "...-->i\n",
      "..i-->s\n",
      "..s-->a\n",
      "..a-->b\n",
      "..b-->e\n",
      "..e-->l\n",
      "..l-->l\n",
      "..l-->a\n",
      "..a-->.\n",
      "sophia\n",
      "...-->s\n",
      "..s-->o\n",
      "..o-->p\n",
      "..p-->h\n",
      "..h-->i\n",
      "..i-->a\n",
      "..a-->.\n"
     ]
    }
   ],
   "source": [
    "block_size = 3\n",
    "X, Y = [], []\n",
    "\n",
    "for name in names[:5]:\n",
    "    print(name)\n",
    "    context = [0] * block_size\n",
    "    for ch in name + '.':\n",
    "        idx = stoi[ch]\n",
    "        X.append(context)\n",
    "        Y.append(idx)\n",
    "        print(''.join([itos[i] for i in context]) + '-->' + itos[idx])\n",
    "        context = context[:-1] + [idx]\n",
    "\n",
    "X = torch.tensor(X)\n",
    "Y = torch.tensor(Y)"
   ]
  },
  {
   "cell_type": "code",
   "execution_count": 27,
   "id": "6e6b3fbc-b076-48da-8ee0-63a8763495c8",
   "metadata": {},
   "outputs": [
    {
     "data": {
      "text/plain": [
       "(tensor([[ 0,  0,  0],\n",
       "         [ 0,  0,  5],\n",
       "         [ 0,  0, 13]]),\n",
       " tensor([ 5, 13, 13]))"
      ]
     },
     "execution_count": 27,
     "metadata": {},
     "output_type": "execute_result"
    }
   ],
   "source": [
    "X[:3], Y[:3]"
   ]
  },
  {
   "cell_type": "code",
   "execution_count": null,
   "id": "ee814750-4c4e-4656-a234-5271d19ad64b",
   "metadata": {},
   "outputs": [],
   "source": []
  }
 ],
 "metadata": {
  "kernelspec": {
   "display_name": "Python 3 (ipykernel)",
   "language": "python",
   "name": "python3"
  },
  "language_info": {
   "codemirror_mode": {
    "name": "ipython",
    "version": 3
   },
   "file_extension": ".py",
   "mimetype": "text/x-python",
   "name": "python",
   "nbconvert_exporter": "python",
   "pygments_lexer": "ipython3",
   "version": "3.11.8"
  }
 },
 "nbformat": 4,
 "nbformat_minor": 5
}
